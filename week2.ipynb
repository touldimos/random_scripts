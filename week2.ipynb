{
 "cells": [
  {
   "cell_type": "code",
   "execution_count": 55,
   "metadata": {},
   "outputs": [
    {
     "name": "stdout",
     "output_type": "stream",
     "text": [
      "Ναι\n",
      "Θετικό\n",
      "q\n"
     ]
    }
   ],
   "source": [
    "positive = ('Ναι', 'Βέβαια', 'Φυσικά')\n",
    "negative = ('Όχι', 'Καθόλου', 'Μπα', 'Δύσκολα')\n",
    "sentence = input()\n",
    "\n",
    "while sentence != 'q':\n",
    "    positive_sentence = 0\n",
    "    negative_sentence = 0\n",
    "    words = sentence.split()\n",
    "    for i in range(len(words)):\n",
    "        if words[i] in positive:\n",
    "            positive_sentence += 1\n",
    "        if words[i] in negative:\n",
    "            negative_sentence += 1\n",
    "        if negative_sentence > positive_sentence:\n",
    "            print('Αρνητικό')\n",
    "        elif negative_sentence < positive_sentence:\n",
    "            print('Θετικό')\n",
    "        else:\n",
    "            print('Δε μπορώ να προβλέψω')\n",
    "    sentence = input()"
   ]
  }
 ],
 "metadata": {
  "kernelspec": {
   "display_name": "Python 3",
   "language": "python",
   "name": "python3"
  },
  "language_info": {
   "codemirror_mode": {
    "name": "ipython",
    "version": 3
   },
   "file_extension": ".py",
   "mimetype": "text/x-python",
   "name": "python",
   "nbconvert_exporter": "python",
   "pygments_lexer": "ipython3",
   "version": "3.7.8"
  }
 },
 "nbformat": 4,
 "nbformat_minor": 4
}
